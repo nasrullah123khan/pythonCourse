{
 "cells": [
  {
   "cell_type": "code",
   "execution_count": 1,
   "id": "f582ad46",
   "metadata": {},
   "outputs": [
    {
     "name": "stdout",
     "output_type": "stream",
     "text": [
      "Hello word\n"
     ]
    }
   ],
   "source": [
    "print(\"Hello word\")"
   ]
  },
  {
   "cell_type": "code",
   "execution_count": 4,
   "id": "32ab3054",
   "metadata": {},
   "outputs": [],
   "source": [
    "#this is python in one video code"
   ]
  },
  {
   "cell_type": "code",
   "execution_count": 5,
   "id": "1a9a01b6",
   "metadata": {},
   "outputs": [
    {
     "data": {
      "text/plain": [
       "'this is multi line comment'"
      ]
     },
     "execution_count": 5,
     "metadata": {},
     "output_type": "execute_result"
    }
   ],
   "source": [
    "'''this is multi line comment'''"
   ]
  },
  {
   "cell_type": "code",
   "execution_count": 6,
   "id": "c85bd35c",
   "metadata": {},
   "outputs": [],
   "source": [
    "str1  = \"This is me\""
   ]
  },
  {
   "cell_type": "code",
   "execution_count": 7,
   "id": "f0af3d57",
   "metadata": {},
   "outputs": [],
   "source": [
    "bear = \"This is bear\""
   ]
  },
  {
   "cell_type": "code",
   "execution_count": 8,
   "id": "f4cf8694",
   "metadata": {},
   "outputs": [
    {
     "name": "stdout",
     "output_type": "stream",
     "text": [
      "21 75.5\n"
     ]
    }
   ],
   "source": [
    "age = 21\n",
    "weight = 75.5\n",
    "print(age,weight)"
   ]
  },
  {
   "cell_type": "markdown",
   "id": "a4835762",
   "metadata": {},
   "source": [
    "# Data Types\n",
    " - number \n",
    " - String\n",
    " - List\n",
    " - Tuples\n",
    " - Dictionary"
   ]
  },
  {
   "cell_type": "markdown",
   "id": "603e09b2",
   "metadata": {},
   "source": [
    "# Arthmetic operators"
   ]
  },
  {
   "cell_type": "code",
   "execution_count": 10,
   "id": "e4d5df57",
   "metadata": {},
   "outputs": [
    {
     "name": "stdout",
     "output_type": "stream",
     "text": [
      "The value of 3 + 5 =  8\n",
      "The value of 3 - 5 =  -2\n",
      "The value of 3 * 5 =  15\n",
      "The value of 3 / 5 =  0.6\n",
      "The value of 3 ** 5 =  243\n",
      "The value of 3 // 5 =  0\n"
     ]
    }
   ],
   "source": [
    "print(\"The value of 3 + 5 = \", 3+5)\n",
    "print(\"The value of 3 - 5 = \", 3-5)\n",
    "print(\"The value of 3 * 5 = \", 3*5)\n",
    "print(\"The value of 3 / 5 = \", 3/5)\n",
    "print(\"The value of 3 ** 5 = \", 3**5)\n",
    "print(\"The value of 3 // 5 = \", 3//5)"
   ]
  },
  {
   "cell_type": "code",
   "execution_count": 11,
   "id": "cf40a785",
   "metadata": {},
   "outputs": [
    {
     "name": "stdout",
     "output_type": "stream",
     "text": [
      "This is a \"\n"
     ]
    }
   ],
   "source": [
    "#print double coute\n",
    "print(\"This is a \\\"\")"
   ]
  },
  {
   "cell_type": "code",
   "execution_count": 12,
   "id": "671a19f5",
   "metadata": {},
   "outputs": [],
   "source": [
    "# multi line string\n",
    "mls = '''this is a multiline string \n",
    "and this will keep  \n",
    "going'''"
   ]
  },
  {
   "cell_type": "code",
   "execution_count": 13,
   "id": "3491b474",
   "metadata": {},
   "outputs": [
    {
     "name": "stdout",
     "output_type": "stream",
     "text": [
      "this is a multiline string \n",
      "and this will keep  \n",
      "going\n"
     ]
    }
   ],
   "source": [
    "print(mls)"
   ]
  },
  {
   "cell_type": "markdown",
   "id": "5ba9726d",
   "metadata": {},
   "source": [
    "# Print statement"
   ]
  },
  {
   "cell_type": "code",
   "execution_count": 14,
   "id": "cc9fc2d9",
   "metadata": {},
   "outputs": [
    {
     "name": "stdout",
     "output_type": "stream",
     "text": [
      "This is a string to the rignt\n"
     ]
    }
   ],
   "source": [
    "print(\"%s to the rignt\"%('This is a string'))"
   ]
  },
  {
   "cell_type": "code",
   "execution_count": 16,
   "id": "390438b3",
   "metadata": {},
   "outputs": [
    {
     "name": "stdout",
     "output_type": "stream",
     "text": [
      "this is a print statement 1this is a print statement 2\n"
     ]
    }
   ],
   "source": [
    "print(\"this is a print statement 1\",end='')\n",
    "print('this is a print statement 2')"
   ]
  },
  {
   "cell_type": "code",
   "execution_count": 18,
   "id": "10a68270",
   "metadata": {},
   "outputs": [
    {
     "name": "stdout",
     "output_type": "stream",
     "text": [
      "This This This This This \n"
     ]
    }
   ],
   "source": [
    "print(\"This \"*5)"
   ]
  },
  {
   "cell_type": "markdown",
   "id": "6934ca20",
   "metadata": {},
   "source": [
    "# Lists"
   ]
  },
  {
   "cell_type": "code",
   "execution_count": 19,
   "id": "1ae1f52c",
   "metadata": {},
   "outputs": [],
   "source": [
    "colleges = ['IIT','NIT','College of engineering']"
   ]
  },
  {
   "cell_type": "code",
   "execution_count": 21,
   "id": "e21586a9",
   "metadata": {},
   "outputs": [
    {
     "data": {
      "text/plain": [
       "'College of engineering'"
      ]
     },
     "execution_count": 21,
     "metadata": {},
     "output_type": "execute_result"
    }
   ],
   "source": [
    "colleges[2]"
   ]
  },
  {
   "cell_type": "code",
   "execution_count": 22,
   "id": "090b82ec",
   "metadata": {},
   "outputs": [],
   "source": [
    "colleges[2] = \"COE\""
   ]
  },
  {
   "cell_type": "code",
   "execution_count": 23,
   "id": "c66e272a",
   "metadata": {},
   "outputs": [
    {
     "data": {
      "text/plain": [
       "'COE'"
      ]
     },
     "execution_count": 23,
     "metadata": {},
     "output_type": "execute_result"
    }
   ],
   "source": [
    "colleges[2]"
   ]
  },
  {
   "cell_type": "code",
   "execution_count": 24,
   "id": "725a8e14",
   "metadata": {},
   "outputs": [
    {
     "data": {
      "text/plain": [
       "['IIT', 'NIT', 'COE']"
      ]
     },
     "execution_count": 24,
     "metadata": {},
     "output_type": "execute_result"
    }
   ],
   "source": [
    "colleges"
   ]
  },
  {
   "cell_type": "code",
   "execution_count": 25,
   "id": "d283a5b3",
   "metadata": {},
   "outputs": [
    {
     "name": "stdout",
     "output_type": "stream",
     "text": [
      "['NIT', 'COE']\n"
     ]
    }
   ],
   "source": [
    "print(colleges[1:3])"
   ]
  },
  {
   "cell_type": "code",
   "execution_count": 26,
   "id": "8560be58",
   "metadata": {},
   "outputs": [],
   "source": [
    "list2 = [\"table\",\"chair\",\"Fan\",\"clothes\",\"bottle\"]"
   ]
  },
  {
   "cell_type": "code",
   "execution_count": 27,
   "id": "3a2aefed",
   "metadata": {},
   "outputs": [],
   "source": [
    "list2.append(\"microphone\")"
   ]
  },
  {
   "cell_type": "code",
   "execution_count": 28,
   "id": "ac250655",
   "metadata": {},
   "outputs": [
    {
     "data": {
      "text/plain": [
       "['table', 'chair', 'Fan', 'clothes', 'bottle', 'microphone']"
      ]
     },
     "execution_count": 28,
     "metadata": {},
     "output_type": "execute_result"
    }
   ],
   "source": [
    "list2"
   ]
  },
  {
   "cell_type": "code",
   "execution_count": 29,
   "id": "9b2be9d1",
   "metadata": {},
   "outputs": [],
   "source": [
    "list2.insert(3,\"blutooth\")"
   ]
  },
  {
   "cell_type": "code",
   "execution_count": 30,
   "id": "dd889ff8",
   "metadata": {},
   "outputs": [
    {
     "data": {
      "text/plain": [
       "['table', 'chair', 'Fan', 'blutooth', 'clothes', 'bottle', 'microphone']"
      ]
     },
     "execution_count": 30,
     "metadata": {},
     "output_type": "execute_result"
    }
   ],
   "source": [
    "list2"
   ]
  },
  {
   "cell_type": "code",
   "execution_count": 31,
   "id": "475ec839",
   "metadata": {},
   "outputs": [],
   "source": [
    "list2.remove('microphone')"
   ]
  },
  {
   "cell_type": "code",
   "execution_count": 32,
   "id": "759c4012",
   "metadata": {},
   "outputs": [
    {
     "data": {
      "text/plain": [
       "['table', 'chair', 'Fan', 'blutooth', 'clothes', 'bottle']"
      ]
     },
     "execution_count": 32,
     "metadata": {},
     "output_type": "execute_result"
    }
   ],
   "source": [
    "list2"
   ]
  },
  {
   "cell_type": "code",
   "execution_count": 33,
   "id": "4156e440",
   "metadata": {},
   "outputs": [
    {
     "name": "stdout",
     "output_type": "stream",
     "text": [
      "['table', 'chair', 'Fan', 'blutooth', 'clothes', 'bottle', 'pillow', 'tubelight', 'bed']\n"
     ]
    }
   ],
   "source": [
    "print(list2 + ['pillow','tubelight','bed'])"
   ]
  },
  {
   "cell_type": "code",
   "execution_count": 34,
   "id": "0b3a2630",
   "metadata": {},
   "outputs": [
    {
     "name": "stdout",
     "output_type": "stream",
     "text": [
      "6\n"
     ]
    }
   ],
   "source": [
    "print(len(list2))"
   ]
  },
  {
   "cell_type": "code",
   "execution_count": 35,
   "id": "54887998",
   "metadata": {},
   "outputs": [
    {
     "name": "stdout",
     "output_type": "stream",
     "text": [
      "table\n"
     ]
    }
   ],
   "source": [
    "print(max(list2))"
   ]
  },
  {
   "cell_type": "code",
   "execution_count": 36,
   "id": "5b467f5a",
   "metadata": {},
   "outputs": [
    {
     "name": "stdout",
     "output_type": "stream",
     "text": [
      "Fan\n"
     ]
    }
   ],
   "source": [
    "print(min(list2))"
   ]
  },
  {
   "cell_type": "markdown",
   "id": "a3b8566f",
   "metadata": {},
   "source": [
    "# TUPLES"
   ]
  },
  {
   "cell_type": "code",
   "execution_count": 37,
   "id": "7cff2096",
   "metadata": {},
   "outputs": [],
   "source": [
    "tup1 = (1,2,3)"
   ]
  },
  {
   "cell_type": "code",
   "execution_count": 38,
   "id": "4205d5e0",
   "metadata": {},
   "outputs": [
    {
     "name": "stdout",
     "output_type": "stream",
     "text": [
      "1\n"
     ]
    }
   ],
   "source": [
    "print(tup1[0])"
   ]
  },
  {
   "cell_type": "code",
   "execution_count": 39,
   "id": "bacc7b2e",
   "metadata": {},
   "outputs": [
    {
     "ename": "TypeError",
     "evalue": "'tuple' object does not support item assignment",
     "output_type": "error",
     "traceback": [
      "\u001b[1;31m---------------------------------------------------------------------------\u001b[0m",
      "\u001b[1;31mTypeError\u001b[0m                                 Traceback (most recent call last)",
      "Input \u001b[1;32mIn [39]\u001b[0m, in \u001b[0;36m<cell line: 1>\u001b[1;34m()\u001b[0m\n\u001b[1;32m----> 1\u001b[0m tup1[\u001b[38;5;241m0\u001b[39m] \u001b[38;5;241m=\u001b[39m \u001b[38;5;241m5\u001b[39m\n",
      "\u001b[1;31mTypeError\u001b[0m: 'tuple' object does not support item assignment"
     ]
    }
   ],
   "source": [
    "tup1[0] = 5"
   ]
  },
  {
   "cell_type": "code",
   "execution_count": 40,
   "id": "39e8883b",
   "metadata": {},
   "outputs": [],
   "source": [
    "list1 = list(tup1)"
   ]
  },
  {
   "cell_type": "code",
   "execution_count": 41,
   "id": "8e306ff6",
   "metadata": {},
   "outputs": [
    {
     "data": {
      "text/plain": [
       "list"
      ]
     },
     "execution_count": 41,
     "metadata": {},
     "output_type": "execute_result"
    }
   ],
   "source": [
    "type(list1)"
   ]
  },
  {
   "cell_type": "markdown",
   "id": "3fde35ed",
   "metadata": {},
   "source": [
    "# Dictionary"
   ]
  },
  {
   "cell_type": "code",
   "execution_count": 42,
   "id": "a2af9ddf",
   "metadata": {},
   "outputs": [],
   "source": [
    "names = {'Nasrullah':22,\n",
    "         'hassan':21,\n",
    "        'omer':20,\n",
    "        'Umair':23}"
   ]
  },
  {
   "cell_type": "code",
   "execution_count": 43,
   "id": "96b6c0e5",
   "metadata": {},
   "outputs": [
    {
     "name": "stdout",
     "output_type": "stream",
     "text": [
      "21\n"
     ]
    }
   ],
   "source": [
    "print(names['hassan'])"
   ]
  },
  {
   "cell_type": "code",
   "execution_count": 44,
   "id": "804b4586",
   "metadata": {},
   "outputs": [],
   "source": [
    "names['omer']=24"
   ]
  },
  {
   "cell_type": "code",
   "execution_count": 45,
   "id": "0a933167",
   "metadata": {},
   "outputs": [
    {
     "data": {
      "text/plain": [
       "{'Nasrullah': 22, 'hassan': 21, 'omer': 24, 'Umair': 23}"
      ]
     },
     "execution_count": 45,
     "metadata": {},
     "output_type": "execute_result"
    }
   ],
   "source": [
    "names"
   ]
  },
  {
   "cell_type": "code",
   "execution_count": 47,
   "id": "7fa511c1",
   "metadata": {},
   "outputs": [
    {
     "name": "stdout",
     "output_type": "stream",
     "text": [
      "dict_keys(['Nasrullah', 'hassan', 'omer', 'Umair'])\n"
     ]
    }
   ],
   "source": [
    "print(names.keys())"
   ]
  },
  {
   "cell_type": "code",
   "execution_count": 48,
   "id": "87f7b8b9",
   "metadata": {},
   "outputs": [
    {
     "name": "stdout",
     "output_type": "stream",
     "text": [
      "dict_values([22, 21, 24, 23])\n"
     ]
    }
   ],
   "source": [
    "print(names.values())"
   ]
  },
  {
   "cell_type": "markdown",
   "id": "ebd21541",
   "metadata": {},
   "source": [
    "# If else Statement"
   ]
  },
  {
   "cell_type": "code",
   "execution_count": 56,
   "id": "b8f47f65",
   "metadata": {},
   "outputs": [
    {
     "name": "stdout",
     "output_type": "stream",
     "text": [
      "102\n",
      "The grade is  Dont know\n"
     ]
    }
   ],
   "source": [
    "number = int(input())\n",
    "\n",
    "if number>90 and number<100:\n",
    "    grade = 'A'\n",
    "elif number>80 and number<100:\n",
    "    grade = 'B'\n",
    "else:\n",
    "    grade = 'Dont know'\n",
    "    \n",
    "print(\"The grade is \", grade)"
   ]
  },
  {
   "cell_type": "markdown",
   "id": "90d3ec75",
   "metadata": {},
   "source": [
    "# Loops"
   ]
  },
  {
   "cell_type": "code",
   "execution_count": 58,
   "id": "8445f7bd",
   "metadata": {},
   "outputs": [
    {
     "name": "stdout",
     "output_type": "stream",
     "text": [
      "How many times do you want to execute\n",
      "13\n",
      "0\n",
      "1\n",
      "2\n",
      "3\n",
      "4\n",
      "5\n",
      "6\n",
      "7\n",
      "8\n",
      "9\n",
      "10\n",
      "11\n",
      "12\n"
     ]
    }
   ],
   "source": [
    "print(\"How many times do you want to execute\")\n",
    "no = int(input())\n",
    "for i in range(0,no):\n",
    "    print(i)"
   ]
  },
  {
   "cell_type": "code",
   "execution_count": 59,
   "id": "9a8ee21d",
   "metadata": {},
   "outputs": [
    {
     "name": "stdout",
     "output_type": "stream",
     "text": [
      "item1\n",
      "item2\n",
      "item3\n"
     ]
    }
   ],
   "source": [
    "list1 = ['item1','item2','item3']\n",
    "for item in list1:\n",
    "    print(item)"
   ]
  },
  {
   "cell_type": "code",
   "execution_count": 60,
   "id": "52294135",
   "metadata": {},
   "outputs": [
    {
     "name": "stdout",
     "output_type": "stream",
     "text": [
      "1\n",
      "2\n",
      "3\n",
      "4\n",
      "5\n",
      "6\n",
      "7\n",
      "8\n",
      "9\n"
     ]
    }
   ],
   "source": [
    "list2 = [[1,2,3],[4,5,6],[7,8,9]]\n",
    "for items in list2:\n",
    "    for i in items:\n",
    "        print(i)"
   ]
  },
  {
   "cell_type": "markdown",
   "id": "ba3da5e8",
   "metadata": {},
   "source": [
    "# While loops"
   ]
  },
  {
   "cell_type": "code",
   "execution_count": 67,
   "id": "1b087188",
   "metadata": {},
   "outputs": [
    {
     "name": "stdout",
     "output_type": "stream",
     "text": [
      "Enter a number\n",
      "6\n",
      "Number is greater than 4\n",
      "7\n",
      "loop ended\n",
      "Number is greater than 4\n",
      "8\n",
      "Number is greater than 4\n",
      "7\n",
      "loop ended\n",
      "Number is greater than 4\n",
      "9\n"
     ]
    }
   ],
   "source": [
    "print(\"Enter a number\")\n",
    "number = int(input())\n",
    "\n",
    "while(number>4):\n",
    "    print(\"Number is greater than 4\")\n",
    "    number = int(input())\n",
    "    if number == 9:\n",
    "        break\n",
    "    if number == 8:\n",
    "        continue\n",
    "    print(\"loop ended\")"
   ]
  },
  {
   "cell_type": "markdown",
   "id": "aa42eb2d",
   "metadata": {},
   "source": [
    "# Function"
   ]
  },
  {
   "cell_type": "code",
   "execution_count": 68,
   "id": "ec97898f",
   "metadata": {},
   "outputs": [
    {
     "name": "stdout",
     "output_type": "stream",
     "text": [
      "2.5\n"
     ]
    }
   ],
   "source": [
    "def average(num1,num2):\n",
    "    return(num1+num2)/2\n",
    "\n",
    "print(average(2,3))"
   ]
  },
  {
   "cell_type": "markdown",
   "id": "3c1b0b9b",
   "metadata": {},
   "source": [
    "# String"
   ]
  },
  {
   "cell_type": "code",
   "execution_count": 69,
   "id": "9aa31b19",
   "metadata": {},
   "outputs": [
    {
     "name": "stdout",
     "output_type": "stream",
     "text": [
      "Th\n"
     ]
    }
   ],
   "source": [
    "string1 = \"this is me\"\n",
    "print(string1[0:2])"
   ]
  },
  {
   "cell_type": "code",
   "execution_count": 71,
   "id": "2635e3eb",
   "metadata": {},
   "outputs": [
    {
     "name": "stdout",
     "output_type": "stream",
     "text": [
      "me\n"
     ]
    }
   ],
   "source": [
    "print(string1[-2:])"
   ]
  },
  {
   "cell_type": "code",
   "execution_count": 72,
   "id": "3385d1d3",
   "metadata": {},
   "outputs": [
    {
     "name": "stdout",
     "output_type": "stream",
     "text": [
      "This is \n"
     ]
    }
   ],
   "source": [
    "print(string1[:-2])"
   ]
  },
  {
   "cell_type": "code",
   "execution_count": 74,
   "id": "dc7a445d",
   "metadata": {},
   "outputs": [
    {
     "name": "stdout",
     "output_type": "stream",
     "text": [
      "This is me\n"
     ]
    }
   ],
   "source": [
    "print(string1.capitalize())"
   ]
  },
  {
   "cell_type": "code",
   "execution_count": 78,
   "id": "20da2b03",
   "metadata": {},
   "outputs": [
    {
     "name": "stdout",
     "output_type": "stream",
     "text": [
      "2\n"
     ]
    }
   ],
   "source": [
    "print(string1.find(\"is\"))"
   ]
  },
  {
   "cell_type": "code",
   "execution_count": 80,
   "id": "ebc05865",
   "metadata": {},
   "outputs": [
    {
     "name": "stdout",
     "output_type": "stream",
     "text": [
      "Thare are me\n"
     ]
    }
   ],
   "source": [
    "print(string1.replace('is','are'))"
   ]
  },
  {
   "cell_type": "markdown",
   "id": "13951e21",
   "metadata": {},
   "source": [
    "# File IO"
   ]
  },
  {
   "cell_type": "markdown",
   "id": "92754967",
   "metadata": {},
   "source": [
    "# - Write file"
   ]
  },
  {
   "cell_type": "code",
   "execution_count": 7,
   "id": "7f849448",
   "metadata": {},
   "outputs": [
    {
     "name": "stdout",
     "output_type": "stream",
     "text": [
      "wb\n",
      "nasrullah.txt\n"
     ]
    }
   ],
   "source": [
    "file1 = open(\"nasrullah.txt\",\"wb\")\n",
    "print(file1.mode)\n",
    "print(file1.name)\n",
    "file1.write(bytes(\"Write this to my file and this is my first input and output file in python\",\"UTF-8\"))\n",
    "file1.close()"
   ]
  },
  {
   "cell_type": "code",
   "execution_count": 8,
   "id": "656f47b0",
   "metadata": {},
   "outputs": [],
   "source": [
    "file2 = open(\"file2.txt\",\"wb\")\n",
    "file2.write(bytes(\"this is my second txt file and write some content to this file\",\"UTF-8\"))\n",
    "file2.close()"
   ]
  },
  {
   "cell_type": "markdown",
   "id": "57fe2cc4",
   "metadata": {},
   "source": [
    "# Reading the file"
   ]
  },
  {
   "cell_type": "code",
   "execution_count": 9,
   "id": "a19c46c4",
   "metadata": {},
   "outputs": [
    {
     "data": {
      "text/plain": [
       "'Write this to my file and this is my first input and output file in python'"
      ]
     },
     "execution_count": 9,
     "metadata": {},
     "output_type": "execute_result"
    }
   ],
   "source": [
    "file1 = open(\"nasrullah.txt\",\"r+\")\n",
    "text_to_read = file1.read()\n",
    "text_to_read"
   ]
  },
  {
   "cell_type": "code",
   "execution_count": 10,
   "id": "27a2f158",
   "metadata": {},
   "outputs": [
    {
     "data": {
      "text/plain": [
       "'this is my second txt file and write some content to this file'"
      ]
     },
     "execution_count": 10,
     "metadata": {},
     "output_type": "execute_result"
    }
   ],
   "source": [
    "file2 = open(\"file2.txt\",\"r+\")\n",
    "textread = file2.read()\n",
    "textread"
   ]
  },
  {
   "cell_type": "markdown",
   "id": "b3f44380",
   "metadata": {},
   "source": [
    "# Object Oriented Programming"
   ]
  },
  {
   "cell_type": "code",
   "execution_count": 41,
   "id": "5853d306",
   "metadata": {},
   "outputs": [
    {
     "name": "stdout",
     "output_type": "stream",
     "text": [
      "30000\n"
     ]
    }
   ],
   "source": [
    "class Employee:\n",
    "    __name = None\n",
    "    __id = 0\n",
    "    __salary = 0\n",
    "    \n",
    "    def __init__(self,name,id,salary):\n",
    "        self.__name = name\n",
    "        self.__id = id\n",
    "        self.__salary = salary\n",
    "        \n",
    "    \n",
    "    def set_name(self,name):\n",
    "        self.__name=name    \n",
    "    def get_name(self):\n",
    "        return self.__name\n",
    "    \n",
    "    def set_id(self,id):\n",
    "        self.__id = id\n",
    "    def get_id(self):\n",
    "        return self.__id\n",
    "    \n",
    "    def set_salary(self,salary):\n",
    "        self.__salary = salary\n",
    "    def get_salary(self):\n",
    "        return self.__salary\n",
    "    \n",
    "'''nasr = Employee()\n",
    "nasr.set_name(\"Nasrullah\")\n",
    "print(nasr.get_name())\n",
    "nasr.set_id(209)\n",
    "print(nasr.get_id())\n",
    "nasr.set_salary(10000)\n",
    "print(nasr.get_salary())\n",
    "'''\n",
    "harry = Employee(\"nasrullah\",220,30000)\n",
    "print(harry.get_salary())"
   ]
  },
  {
   "cell_type": "code",
   "execution_count": null,
   "id": "b32a3b2e",
   "metadata": {},
   "outputs": [],
   "source": []
  },
  {
   "cell_type": "code",
   "execution_count": null,
   "id": "42dc59fa",
   "metadata": {},
   "outputs": [],
   "source": []
  }
 ],
 "metadata": {
  "kernelspec": {
   "display_name": "Python 3 (ipykernel)",
   "language": "python",
   "name": "python3"
  },
  "language_info": {
   "codemirror_mode": {
    "name": "ipython",
    "version": 3
   },
   "file_extension": ".py",
   "mimetype": "text/x-python",
   "name": "python",
   "nbconvert_exporter": "python",
   "pygments_lexer": "ipython3",
   "version": "3.9.12"
  }
 },
 "nbformat": 4,
 "nbformat_minor": 5
}
